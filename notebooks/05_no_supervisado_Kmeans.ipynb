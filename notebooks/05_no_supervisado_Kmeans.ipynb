{
 "cells": [
  {
   "cell_type": "markdown",
   "metadata": {},
   "source": [
    "# Introducción al aprendizaje No supervisado"
   ]
  },
  {
   "cell_type": "markdown",
   "metadata": {},
   "source": [
    "Previamente, aprendimos a usar regresiones lineales y otros clasificadores para estudiar si ciertas caracteristicas son útiles para predecir el resultado observado.\n",
    "\n",
    "En este notebook, pasaremos de la predicción a encontrar patrones.\n"
   ]
  },
  {
   "cell_type": "markdown",
   "metadata": {},
   "source": [
    "Qué haremos en este notebook:\n",
    "-----\n",
    "\n",
    "1. Entregar una introducción general al aprendizaje no supervisado.\n",
    "1. Usar agrupamiento k-means como tecnica de aprendizaje no supervisado.\n",
    "1. Cargar y explorar un set de datos.\n",
    "1. Encontrar grupos mediante algoritmos k-means.\n",
    "1. Evaluar nuestro resultado con el método Elbow."
   ]
  },
  {
   "cell_type": "markdown",
   "metadata": {},
   "source": [
    "Aprendizaje no supervisado: Búsqueda de patrones en los datos. 🔍\n",
    "------\n",
    "\n",
    "El Aprendizaje no supervisado es el proceso mediante el cual identificamos patrones en el conjunto de datos. A menudo, identificar patrones es un paso inicial para entender nuestro datos. Los métodos de aprendizaje no supervisado son una serie de técnicas diseñadas para _explorar_ y encontrar \"estructuras escondidas\" más que predecir resultados.\n",
    "\n",
    "El aprendizaje no supervisado no necesita datos etiquetados, por lo tanto puede trabajar en un rango más amplio de datos. De hecho, la mayor parte de los datos del mundo no están etiquetados. Sin embargo, ya que no hay etiquetas / respuestas correctas no siempre hay una retroalimentación clara para validar que los resultados son correctos."
   ]
  },
  {
   "cell_type": "markdown",
   "metadata": {},
   "source": [
    "¿Qué es el Clustering?\n",
    "-----\n",
    "<br>\n",
    "<center><img src=\"./images/clustering.png\" width=\"700\"></center>\n",
    "\n",
    "El agrupamiento (clustering), es tal como suena: juntar los datos en sub-grupos (clusters) basados en caracteristicas similares. Entonces, esos subgrupos son usados para el analisis posterior. El clustering es una forma intuitiva de entender los diversos segmentos naturales que conforman una población de datos y ayuda a facilitar la visualización de ellos.\n",
    "\n",
    "El método Clustering también es llamado [análisis de grupos](https://es.wikipedia.org/wiki/An%C3%A1lisis_de_grupos) o segmentación de datos."
   ]
  },
  {
   "cell_type": "markdown",
   "metadata": {},
   "source": [
    "Introducción al agrupamiento usando K-means\n",
    "------\n",
    "\n",
    "<br>\n",
    "<center><img src=\"./images/k_means.png\" width=\"700\"></center>\n",
    "\n",
    "\n",
    "K-means es una de las técnicas de agrupamiento más usadas. El objetivo del algoritmo K-means, es encontrar un conjunto de puntos cercanos entre si (un cluster) y que además estén lejos de otros puntos (otros clusters)."
   ]
  },
  {
   "cell_type": "markdown",
   "metadata": {},
   "source": [
    "Cómo hacemos un agrupamiento usando k-means?\n",
    "-----\n",
    "\n",
    "Se inicia generando _k_ centroides <i>al azar</i> dentro de los datos.\n",
    "\n",
    "Luego se alterna entre dos pasos:\n",
    "\n",
    "1. Paso de asignación: Las observaciones se asignan a un grupo donde el centro está más cerca de ellos.\n",
    "\n",
    "2. Paso de actualización: Se determinan nuevos puntos centrales de los grupos.\n",
    "\n",
    "El proceso se repite hasta que las observaciones se vuelven distantes a diferentes grupos y el centro de cada grupo no se mueve.\n",
    "\n",
    "En otras palabras, las observaciones se reasignan constatemente a los grupos, hasta que se minimiza la distancia entre una observación y el punto central más cercano."
   ]
  },
  {
   "cell_type": "markdown",
   "metadata": {},
   "source": [
    "-----\n",
    "Ejemplo: Ajuste de K-means a datos reales de prestamos (kiva.org)\n",
    "------\n",
    "\n",
    "Ahora vamos a ajustar k-means a una <b>partición</b> o <b>segmento</b> de los datos de Kiva en clusters.\n",
    "\n",
    "Importemos los paquetes más importantes para comenzar el código:"
   ]
  },
  {
   "cell_type": "code",
   "execution_count": 90,
   "metadata": {},
   "outputs": [],
   "source": [
    "# Carga y manipulación de datos\n",
    "import pandas as pd\n",
    "import numpy as np\n",
    "\n",
    "# K-Means clustering algorithm\n",
    "from sklearn.cluster import KMeans\n",
    "\n",
    "# Para graficar\n",
    "import seaborn as sns\n",
    "import matplotlib.pyplot as plt\n",
    "\n",
    "# Coloca los gráficos en el Jupyter Notebook\n",
    "%matplotlib inline\n",
    "\n",
    "# Mantiene todos los datos visibles\n",
    "pd.set_option('display.max_columns', None)\n",
    "pd.set_option('display.max_rows', None)"
   ]
  },
  {
   "cell_type": "markdown",
   "metadata": {},
   "source": [
    "----\n",
    "Cargar y explorar los datos\n",
    "-----"
   ]
  },
  {
   "cell_type": "code",
   "execution_count": 23,
   "metadata": {},
   "outputs": [],
   "source": [
    "# Carga datos que se guardan localmente\n",
    "path_filename = 'loans.csv'\n",
    "df = pd.read_csv(path_filename)"
   ]
  },
  {
   "cell_type": "code",
   "execution_count": null,
   "metadata": {},
   "outputs": [],
   "source": [
    "# Load data from Github if using colab\n",
    "#!git clone https://github.com/DeltaAnalytics/machine_learning_for_good_data\n",
    "#df = pd.read_csv(\"machine_learning_for_good_data/loans.csv\")"
   ]
  },
  {
   "cell_type": "code",
   "execution_count": 24,
   "metadata": {},
   "outputs": [
    {
     "data": {
      "text/plain": [
       "Index(['id_number', 'loan_amount', 'lender_count', 'status', 'funded_date',\n",
       "       'funded_amount', 'repayment_term', 'location_country_code', 'sector',\n",
       "       'description', 'use'],\n",
       "      dtype='object')"
      ]
     },
     "execution_count": 24,
     "metadata": {},
     "output_type": "execute_result"
    }
   ],
   "source": [
    "df.columns"
   ]
  },
  {
   "cell_type": "markdown",
   "metadata": {},
   "source": [
    "**id_number**: ID único por préstamo (ID de préstamo)<br>\n",
    "**loan_amount**: la cantidad desembolsada por el agente de campo al prestatario (USD)<br>\n",
    "**lender_count**:el número total de prestamistas que contribuyeron a este préstamo<br>\n",
    "**status**:realizado o no realizado el préstamo.<br>\n",
    "**funded_date**: fecha en el que los prestamistas financian completamente el préstamo publicado en Kiva<br>\n",
    "**funded_amount**: la cantidad desembolsada por Kiva al agente de campo (USD)<br>\n",
    "**repayment_term**: el número de meses en los que se espera que el prestatario pague el préstamo<br>\n",
    "**location_country_code**: código país (alfabético)<br>\n",
    "**sector**: Categoría de alto nivel<br>\n",
    "**description**: descripción del préstamo y del prestatario, disponible para posibles prestamistas en Kiva.<br>\n",
    "**use**: descripción del uso del monto del préstamo<br>"
   ]
  },
  {
   "cell_type": "markdown",
   "metadata": {},
   "source": [
    "Siempre es una buena idea 💡 echar un vistazo a los datos sin procesar."
   ]
  },
  {
   "cell_type": "code",
   "execution_count": 25,
   "metadata": {
    "scrolled": false
   },
   "outputs": [
    {
     "data": {
      "text/html": [
       "<div>\n",
       "<style scoped>\n",
       "    .dataframe tbody tr th:only-of-type {\n",
       "        vertical-align: middle;\n",
       "    }\n",
       "\n",
       "    .dataframe tbody tr th {\n",
       "        vertical-align: top;\n",
       "    }\n",
       "\n",
       "    .dataframe thead th {\n",
       "        text-align: right;\n",
       "    }\n",
       "</style>\n",
       "<table border=\"1\" class=\"dataframe\">\n",
       "  <thead>\n",
       "    <tr style=\"text-align: right;\">\n",
       "      <th></th>\n",
       "      <th>id_number</th>\n",
       "      <th>loan_amount</th>\n",
       "      <th>lender_count</th>\n",
       "      <th>status</th>\n",
       "      <th>funded_date</th>\n",
       "      <th>funded_amount</th>\n",
       "      <th>repayment_term</th>\n",
       "      <th>location_country_code</th>\n",
       "      <th>sector</th>\n",
       "      <th>description</th>\n",
       "      <th>use</th>\n",
       "    </tr>\n",
       "  </thead>\n",
       "  <tbody>\n",
       "    <tr>\n",
       "      <th>0</th>\n",
       "      <td>736066</td>\n",
       "      <td>4825</td>\n",
       "      <td>60</td>\n",
       "      <td>funded</td>\n",
       "      <td>2014-08-03T17:51:50Z</td>\n",
       "      <td>4825</td>\n",
       "      <td>8</td>\n",
       "      <td>BJ</td>\n",
       "      <td>Retail</td>\n",
       "      <td>NaN</td>\n",
       "      <td>NaN</td>\n",
       "    </tr>\n",
       "    <tr>\n",
       "      <th>1</th>\n",
       "      <td>743090</td>\n",
       "      <td>975</td>\n",
       "      <td>34</td>\n",
       "      <td>funded</td>\n",
       "      <td>2014-08-18T09:10:54Z</td>\n",
       "      <td>975</td>\n",
       "      <td>12</td>\n",
       "      <td>BJ</td>\n",
       "      <td>Food</td>\n",
       "      <td>NaN</td>\n",
       "      <td>NaN</td>\n",
       "    </tr>\n",
       "    <tr>\n",
       "      <th>2</th>\n",
       "      <td>743120</td>\n",
       "      <td>950</td>\n",
       "      <td>25</td>\n",
       "      <td>funded</td>\n",
       "      <td>2014-08-09T17:46:35Z</td>\n",
       "      <td>950</td>\n",
       "      <td>14</td>\n",
       "      <td>BJ</td>\n",
       "      <td>Services</td>\n",
       "      <td>NaN</td>\n",
       "      <td>NaN</td>\n",
       "    </tr>\n",
       "    <tr>\n",
       "      <th>3</th>\n",
       "      <td>743121</td>\n",
       "      <td>825</td>\n",
       "      <td>28</td>\n",
       "      <td>funded</td>\n",
       "      <td>2014-08-24T17:00:38Z</td>\n",
       "      <td>825</td>\n",
       "      <td>14</td>\n",
       "      <td>BJ</td>\n",
       "      <td>Retail</td>\n",
       "      <td>NaN</td>\n",
       "      <td>NaN</td>\n",
       "    </tr>\n",
       "    <tr>\n",
       "      <th>4</th>\n",
       "      <td>743124</td>\n",
       "      <td>725</td>\n",
       "      <td>21</td>\n",
       "      <td>funded</td>\n",
       "      <td>2014-08-25T03:24:54Z</td>\n",
       "      <td>725</td>\n",
       "      <td>13</td>\n",
       "      <td>BJ</td>\n",
       "      <td>Retail</td>\n",
       "      <td>NaN</td>\n",
       "      <td>NaN</td>\n",
       "    </tr>\n",
       "    <tr>\n",
       "      <th>5</th>\n",
       "      <td>743125</td>\n",
       "      <td>725</td>\n",
       "      <td>27</td>\n",
       "      <td>funded</td>\n",
       "      <td>2014-08-18T23:08:00Z</td>\n",
       "      <td>725</td>\n",
       "      <td>13</td>\n",
       "      <td>BJ</td>\n",
       "      <td>Retail</td>\n",
       "      <td>NaN</td>\n",
       "      <td>NaN</td>\n",
       "    </tr>\n",
       "    <tr>\n",
       "      <th>6</th>\n",
       "      <td>743130</td>\n",
       "      <td>725</td>\n",
       "      <td>27</td>\n",
       "      <td>funded</td>\n",
       "      <td>2014-08-19T12:14:49Z</td>\n",
       "      <td>725</td>\n",
       "      <td>13</td>\n",
       "      <td>BJ</td>\n",
       "      <td>Retail</td>\n",
       "      <td>NaN</td>\n",
       "      <td>NaN</td>\n",
       "    </tr>\n",
       "    <tr>\n",
       "      <th>7</th>\n",
       "      <td>743134</td>\n",
       "      <td>525</td>\n",
       "      <td>14</td>\n",
       "      <td>funded</td>\n",
       "      <td>2014-07-28T06:20:44Z</td>\n",
       "      <td>525</td>\n",
       "      <td>13</td>\n",
       "      <td>BJ</td>\n",
       "      <td>Services</td>\n",
       "      <td>NaN</td>\n",
       "      <td>NaN</td>\n",
       "    </tr>\n",
       "    <tr>\n",
       "      <th>8</th>\n",
       "      <td>743207</td>\n",
       "      <td>950</td>\n",
       "      <td>35</td>\n",
       "      <td>funded</td>\n",
       "      <td>2014-08-26T14:24:08Z</td>\n",
       "      <td>950</td>\n",
       "      <td>14</td>\n",
       "      <td>BJ</td>\n",
       "      <td>Retail</td>\n",
       "      <td>NaN</td>\n",
       "      <td>NaN</td>\n",
       "    </tr>\n",
       "    <tr>\n",
       "      <th>9</th>\n",
       "      <td>743228</td>\n",
       "      <td>500</td>\n",
       "      <td>10</td>\n",
       "      <td>funded</td>\n",
       "      <td>2014-08-01T01:54:34Z</td>\n",
       "      <td>500</td>\n",
       "      <td>10</td>\n",
       "      <td>BJ</td>\n",
       "      <td>Food</td>\n",
       "      <td>NaN</td>\n",
       "      <td>NaN</td>\n",
       "    </tr>\n",
       "  </tbody>\n",
       "</table>\n",
       "</div>"
      ],
      "text/plain": [
       "   id_number  loan_amount  lender_count  status           funded_date  \\\n",
       "0     736066         4825            60  funded  2014-08-03T17:51:50Z   \n",
       "1     743090          975            34  funded  2014-08-18T09:10:54Z   \n",
       "2     743120          950            25  funded  2014-08-09T17:46:35Z   \n",
       "3     743121          825            28  funded  2014-08-24T17:00:38Z   \n",
       "4     743124          725            21  funded  2014-08-25T03:24:54Z   \n",
       "5     743125          725            27  funded  2014-08-18T23:08:00Z   \n",
       "6     743130          725            27  funded  2014-08-19T12:14:49Z   \n",
       "7     743134          525            14  funded  2014-07-28T06:20:44Z   \n",
       "8     743207          950            35  funded  2014-08-26T14:24:08Z   \n",
       "9     743228          500            10  funded  2014-08-01T01:54:34Z   \n",
       "\n",
       "   funded_amount  repayment_term location_country_code    sector description  \\\n",
       "0           4825               8                    BJ    Retail         NaN   \n",
       "1            975              12                    BJ      Food         NaN   \n",
       "2            950              14                    BJ  Services         NaN   \n",
       "3            825              14                    BJ    Retail         NaN   \n",
       "4            725              13                    BJ    Retail         NaN   \n",
       "5            725              13                    BJ    Retail         NaN   \n",
       "6            725              13                    BJ    Retail         NaN   \n",
       "7            525              13                    BJ  Services         NaN   \n",
       "8            950              14                    BJ    Retail         NaN   \n",
       "9            500              10                    BJ      Food         NaN   \n",
       "\n",
       "   use  \n",
       "0  NaN  \n",
       "1  NaN  \n",
       "2  NaN  \n",
       "3  NaN  \n",
       "4  NaN  \n",
       "5  NaN  \n",
       "6  NaN  \n",
       "7  NaN  \n",
       "8  NaN  \n",
       "9  NaN  "
      ]
     },
     "execution_count": 25,
     "metadata": {},
     "output_type": "execute_result"
    }
   ],
   "source": [
    "df.head(10)"
   ]
  },
  {
   "cell_type": "code",
   "execution_count": 26,
   "metadata": {},
   "outputs": [
    {
     "name": "stdout",
     "output_type": "stream",
     "text": [
      "Hay 11 columnas en el dataframe.\n",
      "Hay 6,019 filas en el dataframe.\n"
     ]
    }
   ],
   "source": [
    "print(f\"Hay {df.shape[1]:,} columnas en el dataframe.\")\n",
    "print(f\"Hay {df.shape[0]:,} filas en el dataframe.\")"
   ]
  },
  {
   "cell_type": "code",
   "execution_count": 27,
   "metadata": {},
   "outputs": [
    {
     "data": {
      "text/html": [
       "<div>\n",
       "<style scoped>\n",
       "    .dataframe tbody tr th:only-of-type {\n",
       "        vertical-align: middle;\n",
       "    }\n",
       "\n",
       "    .dataframe tbody tr th {\n",
       "        vertical-align: top;\n",
       "    }\n",
       "\n",
       "    .dataframe thead th {\n",
       "        text-align: right;\n",
       "    }\n",
       "</style>\n",
       "<table border=\"1\" class=\"dataframe\">\n",
       "  <thead>\n",
       "    <tr style=\"text-align: right;\">\n",
       "      <th></th>\n",
       "      <th>id_number</th>\n",
       "      <th>loan_amount</th>\n",
       "      <th>lender_count</th>\n",
       "      <th>funded_amount</th>\n",
       "      <th>repayment_term</th>\n",
       "    </tr>\n",
       "  </thead>\n",
       "  <tbody>\n",
       "    <tr>\n",
       "      <th>count</th>\n",
       "      <td>6.019000e+03</td>\n",
       "      <td>6019.000000</td>\n",
       "      <td>6019.000000</td>\n",
       "      <td>6019.000000</td>\n",
       "      <td>6019.000000</td>\n",
       "    </tr>\n",
       "    <tr>\n",
       "      <th>mean</th>\n",
       "      <td>1.359770e+06</td>\n",
       "      <td>1499.011464</td>\n",
       "      <td>35.661406</td>\n",
       "      <td>1325.070610</td>\n",
       "      <td>11.803290</td>\n",
       "    </tr>\n",
       "    <tr>\n",
       "      <th>std</th>\n",
       "      <td>3.719316e+05</td>\n",
       "      <td>2512.517280</td>\n",
       "      <td>73.420256</td>\n",
       "      <td>2444.726815</td>\n",
       "      <td>9.114948</td>\n",
       "    </tr>\n",
       "    <tr>\n",
       "      <th>min</th>\n",
       "      <td>1.377200e+04</td>\n",
       "      <td>50.000000</td>\n",
       "      <td>0.000000</td>\n",
       "      <td>0.000000</td>\n",
       "      <td>3.000000</td>\n",
       "    </tr>\n",
       "    <tr>\n",
       "      <th>25%</th>\n",
       "      <td>1.425188e+06</td>\n",
       "      <td>300.000000</td>\n",
       "      <td>7.000000</td>\n",
       "      <td>200.000000</td>\n",
       "      <td>8.000000</td>\n",
       "    </tr>\n",
       "    <tr>\n",
       "      <th>50%</th>\n",
       "      <td>1.550673e+06</td>\n",
       "      <td>625.000000</td>\n",
       "      <td>16.000000</td>\n",
       "      <td>525.000000</td>\n",
       "      <td>10.000000</td>\n",
       "    </tr>\n",
       "    <tr>\n",
       "      <th>75%</th>\n",
       "      <td>1.566204e+06</td>\n",
       "      <td>1825.000000</td>\n",
       "      <td>41.000000</td>\n",
       "      <td>1525.000000</td>\n",
       "      <td>14.000000</td>\n",
       "    </tr>\n",
       "    <tr>\n",
       "      <th>max</th>\n",
       "      <td>1.573593e+06</td>\n",
       "      <td>80000.000000</td>\n",
       "      <td>2665.000000</td>\n",
       "      <td>80000.000000</td>\n",
       "      <td>133.000000</td>\n",
       "    </tr>\n",
       "  </tbody>\n",
       "</table>\n",
       "</div>"
      ],
      "text/plain": [
       "          id_number   loan_amount  lender_count  funded_amount  repayment_term\n",
       "count  6.019000e+03   6019.000000   6019.000000    6019.000000     6019.000000\n",
       "mean   1.359770e+06   1499.011464     35.661406    1325.070610       11.803290\n",
       "std    3.719316e+05   2512.517280     73.420256    2444.726815        9.114948\n",
       "min    1.377200e+04     50.000000      0.000000       0.000000        3.000000\n",
       "25%    1.425188e+06    300.000000      7.000000     200.000000        8.000000\n",
       "50%    1.550673e+06    625.000000     16.000000     525.000000       10.000000\n",
       "75%    1.566204e+06   1825.000000     41.000000    1525.000000       14.000000\n",
       "max    1.573593e+06  80000.000000   2665.000000   80000.000000      133.000000"
      ]
     },
     "execution_count": 27,
     "metadata": {},
     "output_type": "execute_result"
    }
   ],
   "source": [
    "df.describe()"
   ]
  },
  {
   "cell_type": "markdown",
   "metadata": {},
   "source": [
    "Ahora que tenemos nuestros datos configurados, podemos comenzar a dividir nuestros datos en clústeres basados solo en algunas características. Pensemos cómo elegir estos ...\n",
    "\n",
    "Como prestatario o prestamista potencial, ¿qué sería interesante explorar?\n",
    "\n",
    "En los notebooks anteriores, hemos explorado algunas ideas interesantes:\n",
    "\n",
    "- Cuánto dinero debe pedir prestado un prestatario\n",
    "- El tiempo que lleva financiar un préstamo\n",
    "- Qué características pueden influir en el monto del préstamo\n",
    "- Si dividimos a los prestatarios en grupos distintos según la rapidez con la que pueden financiar un préstamo, ¿podremos aprender algo sobre estos grupos de prestatarios?\n",
    "\n",
    "El algoritmo k-means utiliza características numéricas de valor continuo (k-means también se puede modificar para trabajar con características categóricas y ordinales).\n",
    "\n",
    "-----\n",
    "\n",
    "Escojamos un par de caracteristicas numéricas para el análisis:"
   ]
  },
  {
   "cell_type": "markdown",
   "metadata": {},
   "source": [
    "¿Cómo se relacionan el monto financiado y los días para financiar?\n",
    "----"
   ]
  },
  {
   "cell_type": "code",
   "execution_count": 69,
   "metadata": {},
   "outputs": [],
   "source": [
    "# Mantiene solo las columnas relevantes\n",
    "column_1 = 'funded_amount'\n",
    "column_2 = 'repayment_term'\n",
    "df = df[[column_1, column_2]] "
   ]
  },
  {
   "cell_type": "code",
   "execution_count": 70,
   "metadata": {},
   "outputs": [
    {
     "data": {
      "image/png": "[encoded data removed]",
      "text/plain": [
       "<Figure size 432x288 with 1 Axes>"
      ]
     },
     "metadata": {
      "needs_background": "light"
     },
     "output_type": "display_data"
    }
   ],
   "source": [
    "ax = df.funded_amount.hist(grid=False);\n",
    "\n",
    "ax.set(xlabel='Monto financiado', \n",
    "       ylabel='Cantidad', \n",
    "       title='Histograma del Monto Financiado');  "
   ]
  },
  {
   "cell_type": "code",
   "execution_count": 71,
   "metadata": {},
   "outputs": [
    {
     "data": {
      "image/png": "[encoded data removed]",
      "text/plain": [
       "<Figure size 432x288 with 1 Axes>"
      ]
     },
     "metadata": {
      "needs_background": "light"
     },
     "output_type": "display_data"
    }
   ],
   "source": [
    "ax = df.repayment_term.hist(grid=False);\n",
    "\n",
    "ax.set(xlabel='Plazo de amortización', \n",
    "       ylabel='Cantidad', \n",
    "       title='Histograma del Plazo de amortización');  "
   ]
  },
  {
   "cell_type": "code",
   "execution_count": 72,
   "metadata": {},
   "outputs": [],
   "source": [
    "# Filtrar datos para eliminar valores atípicos (outliers)\n",
    "funded_small = df.funded_amount < 2500  # Remover grandes préstamos\n",
    "repayment_short = df.repayment_term < 60 # Remover largos periodos de amortización\n",
    "df = df[funded_small & repayment_short]"
   ]
  },
  {
   "cell_type": "code",
   "execution_count": 73,
   "metadata": {},
   "outputs": [
    {
     "data": {
      "image/png": "[encoded data removed]",
      "text/plain": [
       "<Figure size 432x288 with 1 Axes>"
      ]
     },
     "metadata": {
      "needs_background": "light"
     },
     "output_type": "display_data"
    }
   ],
   "source": [
    "ax = df.funded_amount.hist(grid=False);\n",
    "\n",
    "ax.set(xlabel='Monto Financiado', \n",
    "       ylabel='Cantidad', \n",
    "       title='Histograma de montos financiados');  "
   ]
  },
  {
   "cell_type": "code",
   "execution_count": 74,
   "metadata": {},
   "outputs": [
    {
     "data": {
      "image/png": "[encoded data removed]",
      "text/plain": [
       "<Figure size 432x288 with 1 Axes>"
      ]
     },
     "metadata": {
      "needs_background": "light"
     },
     "output_type": "display_data"
    }
   ],
   "source": [
    "ax = df.repayment_term.hist(grid=False);\n",
    "\n",
    "ax.set(xlabel='Plazo de amortización', \n",
    "       ylabel='Cantidad', \n",
    "       title='Histograma del Plazo de amortización'); "
   ]
  },
  {
   "cell_type": "code",
   "execution_count": 75,
   "metadata": {},
   "outputs": [
    {
     "name": "stdout",
     "output_type": "stream",
     "text": [
      "Hay 2 columnas en el dataframe.\n",
      "Hay 4,928 filas en el dataframe.\n"
     ]
    }
   ],
   "source": [
    "print(f\"Hay {df.shape[1]:,} columnas en el dataframe.\")\n",
    "print(f\"Hay {df.shape[0]:,} filas en el dataframe.\")"
   ]
  },
  {
   "cell_type": "code",
   "execution_count": 76,
   "metadata": {},
   "outputs": [
    {
     "data": {
      "image/png": "[encoded data removed]",
      "text/plain": [
       "<Figure size 432x288 with 1 Axes>"
      ]
     },
     "metadata": {
      "needs_background": "light"
     },
     "output_type": "display_data"
    }
   ],
   "source": [
    "# Grafica la relación entre ambas variables\n",
    "df.plot.scatter(x=column_1,\n",
    "                y=column_2);"
   ]
  },
  {
   "cell_type": "markdown",
   "metadata": {},
   "source": [
    "Clustering\n",
    "======"
   ]
  },
  {
   "cell_type": "markdown",
   "metadata": {},
   "source": [
    "----\n",
    "Ajuste de nuestros datos con k-means usando scikit-learn\n",
    "----\n",
    "\n",
    "Ahora podemos correr el algoritmo k-means:\n",
    "\n",
    "Podemos ver rápidamente la documentación de [scikit-learn](http://scikit-learn.org/stable/modules/generated/sklearn.cluster.KMeans.html) para k-means."
   ]
  },
  {
   "cell_type": "code",
   "execution_count": 80,
   "metadata": {},
   "outputs": [],
   "source": [
    "# Tomar la clase KMeans, inicializa y ajusta los datos.\n",
    "kmeans = KMeans(n_clusters=2) # El numero de clusters deberían ser 2 o 3\n",
    "kmeans.fit(df);"
   ]
  },
  {
   "cell_type": "markdown",
   "metadata": {},
   "source": [
    "Ahora que tenemos nuestros clusters, la mejor forma de entenderlo es visualizandolo."
   ]
  },
  {
   "cell_type": "code",
   "execution_count": 81,
   "metadata": {},
   "outputs": [],
   "source": [
    "# Agrega las etiquetas de los cluster a cada punto del dataframe\n",
    "df['kmeans_labels'] = kmeans.labels_"
   ]
  },
  {
   "cell_type": "code",
   "execution_count": 92,
   "metadata": {},
   "outputs": [
    {
     "data": {
      "image/png": "[encoded data removed]",
      "text/plain": [
       "<Figure size 441.75x360 with 1 Axes>"
      ]
     },
     "metadata": {
      "needs_background": "light"
     },
     "output_type": "display_data"
    }
   ],
   "source": [
    "# grafica k-means\n",
    "kmeans_plot = sns.lmplot(x=column_1, \n",
    "                       y=column_2, \n",
    "                       data=df, \n",
    "                       fit_reg=False,        # No ajusta una regresión lineal a los datos\n",
    "                       hue=\"kmeans_labels\",  #'hue' le da un color a cada grupo\n",
    "                       legend=True);\n",
    "\n",
    "# Grafica el promedio del cluster #1\n",
    "kmeans_plot.ax.plot(kmeans.cluster_centers_[0][0], kmeans.cluster_centers_[0][1], color='red', marker='*', markersize='8');\n",
    "\n",
    "# Grafica el promedio del cluster #2\n",
    "kmeans_plot.ax.plot(kmeans.cluster_centers_[1][0], kmeans.cluster_centers_[1][1], color='cyan', marker='*', markersize='8');\n",
    "\n",
    "# # Grafica el promedio del cluster #3 (cuando corresponde)\n",
    "# kmeans_plot.ax.plot(kmeans.cluster_centers_[2][0], kmeans.cluster_centers_[2][1], color='orange', marker='*');"
   ]
  },
  {
   "cell_type": "markdown",
   "metadata": {},
   "source": [
    "Eligiendo la cantidad de clusters\n",
    "-----\n",
    "\n",
    "El algoritmo de k-means es \"ingenuo\", ya que agrupa los datos en k grupos, aún si k no es el número correcto de grupos que se debería usar.\n",
    "\n",
    "Arbitrariamente, nosotros ajustamos el número de grupos para que sean 2, pero determinar el número apropiado de grupos (clusters, k) es la parte más desafiante del procedimiento de agrupación.\n",
    "\n",
    "No existe una regla estricta sobre cuál debería ser el valor de k ya que el número de grupos dependerá de los datos y del objetivo del análisis. El número de grupos que elijas en la partición de tus datos, influenciará directamente los resultados que puedas encontrar. En la mayoría de las áreas del análisis de datos, es atractivo tomar un agrupamiento lo más granulado posible, pero tener muchos clusters puede ser contraproducente ya que el agrupamiento no te dará mucha información.\n",
    "\n",
    "_¿Es posible tener demasiados grupos? ¿O muy pocos grupos?_\n",
    "\n",
    "Piensa en estos ejemplos extremos: \n",
    "\n",
    "1. Un cluster para todos tus datos\n",
    "2. Un cluster para cada punto\n",
    "\n",
    "Ninguna de estas opciones te dirá nada nuevo acerca de tus datos.\n",
    "\n",
    "Más bien, el método de agrupamiento es más efectivo cuando las observaciones en el mismo grupo son similares entre si, además queremos que las observaciones en los diferentes grupos sean tan diferente como sea posible uno de otro. \n"
   ]
  },
  {
   "cell_type": "markdown",
   "metadata": {},
   "source": [
    "El método Elbow para explorar el número de clusters\n",
    "------\n",
    "\n",
    "El método de elbow (codo) es una forma simple e intuitiva para explorar como el cambio en el número de clusters impactará al \"apretamiento\" de los clusters. \n",
    "\n",
    "El método elbow corre el agrupamiento de k-means en el mismo conjunto de datos para un rango de valores de k (digamos que k es [1, 2, 3, 4, 5, 6, 7, 8, 9, 10]) y para cada valor de k, calcula la suma de errores cuadrados (Sum of Squared Errors, SSE) dentro de cada cluster.\n",
    "\n",
    "SSE es la distancia entre cada punto y el promedio más cercano*, al cuadrado y sumada.\n",
    "\n",
    "SSE es una medida de agrupaciones internamente coherentes. Cuanto más bajo es SSE, mejor (una puntuación invertida), significa que cada grupo es muy similar a sí mismo. SSE es como un puntaje de golf o frecuencia cardíaca, más bajo es mejor.\n",
    "\n",
    "A medida que k aumenta, la mejora en SSE disminuirá. En algún momento esta falta de mejora será rápida, creando la forma de \"codo\".\n",
    "\n",
    "Se debe elegir una cantidad de clusters tal que al agregar otro cluster no proporcione un modelado mucho mejor de los datos.\n",
    "\n",
    "<sub>*En la figura no se logra apreciar completamente porque cada eje está en escalas muy diferentes. Típicamente, los datos que se usan en k-means están normalizados, por lo que los datos están en la misma escala estándar.</sub>\n"
   ]
  },
  {
   "cell_type": "markdown",
   "metadata": {},
   "source": [
    "![](../images/elbow_method.png)\n",
    "\n",
    "Lo que el método de elbow realiza, es lo siguiente:\n",
    "\n",
    "1. Corre el algoritmo de k-means sobre tu conjunto de datos para un rango de k.\n",
    "2. Para cada valor de k, calcula como el modelo se ajusta.\n",
    "3. Si vemos un \"codo\" en nuestra verificación graficada, entonces eso marca un buen valor para k.\n"
   ]
  },
  {
   "cell_type": "code",
   "execution_count": 83,
   "metadata": {},
   "outputs": [],
   "source": [
    "# Ajustemos un modelo diferente para cada valor de k\n",
    "k_values = range(1, 10)\n",
    "\n",
    "# Ajusta un modelo para cada valor de k\n",
    "k_mean_models = [KMeans(n_clusters=i) for i in k_values]\n",
    "\n",
    "# Mira como los puntajes cambian\n",
    "scores = [-k_mean_models[i].fit(df).score(df) \n",
    "              for i, model in enumerate(k_mean_models)] "
   ]
  },
  {
   "cell_type": "code",
   "execution_count": 84,
   "metadata": {},
   "outputs": [
    {
     "data": {
      "image/png": "[encoded data removed]",
      "text/plain": [
       "<Figure size 432x288 with 1 Axes>"
      ]
     },
     "metadata": {
      "needs_background": "light"
     },
     "output_type": "display_data"
    }
   ],
   "source": [
    "# Grafiquemos los efectos de k en el clustering\n",
    "ax = sns.pointplot(x=list(k_values),\n",
    "                   y=scores);\n",
    "ax.set(xlabel='k', \n",
    "       ylabel='Ajuste', \n",
    "       title='Método de Elbow eligiendo k');"
   ]
  },
  {
   "cell_type": "markdown",
   "metadata": {},
   "source": [
    "Estudio adicional\n",
    "-----\n",
    "\n",
    "Si quieres entender k-mean en profundidad, empieza el notebook que encontrarás [aquí](https://jakevdp.github.io/PythonDataScienceHandbook/05.11-k-means.html)\n",
    "\n",
    "Si estás interesado/a en la teoría detrás de k-means, te recomendamos este gran recurso [aquí](https://www-users.cs.umn.edu/~kumar/dmbook/ch8.pdf). "
   ]
  }
 ],
 "metadata": {
  "kernelspec": {
   "display_name": "Python 3",
   "language": "python",
   "name": "python3"
  },
  "language_info": {
   "codemirror_mode": {
    "name": "ipython",
    "version": 3
   },
   "file_extension": ".py",
   "mimetype": "text/x-python",
   "name": "python",
   "nbconvert_exporter": "python",
   "pygments_lexer": "ipython3",
   "version": "3.7.5"
  },
  "toc": {
   "base_numbering": 1,
   "nav_menu": {},
   "number_sections": true,
   "sideBar": true,
   "skip_h1_title": false,
   "title_cell": "Table of Contents",
   "title_sidebar": "Contents",
   "toc_cell": false,
   "toc_position": {},
   "toc_section_display": true,
   "toc_window_display": false
  }
 },
 "nbformat": 4,
 "nbformat_minor": 2
}
